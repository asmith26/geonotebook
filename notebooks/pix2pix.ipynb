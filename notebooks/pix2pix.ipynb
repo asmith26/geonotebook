{
 "cells": [
  {
   "cell_type": "markdown",
   "metadata": {},
   "source": [
    "**PLEASE NOTE:** This model was trained on only 1096 New York City images, hence performs best there - potentially could be retrained over a wider area.\n",
    "\n",
    "See training images here: https://people.eecs.berkeley.edu/~tinghuiz/projects/pix2pix/datasets/maps.tar.gz\n",
    "\n",
    "Model Code + Paper: https://github.com/affinelayer/pix2pix-tensorflow\n",
    "\n",
    "Examples of a good prediction (from New York City):"
   ]
  },
  {
   "cell_type": "markdown",
   "metadata": {},
   "source": [
    "input | output | target\n",
    "--- | --- | ---\n",
    "![](pix2pix_examples/20180108_161824_0-inputs.png) | ![](pix2pix_examples/20180108_161824_0-outputs.png) | ![](pix2pix_examples/20180108_161824_0-targets.png)"
   ]
  },
  {
   "cell_type": "code",
   "execution_count": 2,
   "metadata": {
    "extensions": {
     "jupyter_dashboards": {
      "version": 1,
      "views": {
       "grid_default": {
        "col": 0,
        "height": 9,
        "hidden": false,
        "row": 0,
        "width": 4
       },
       "report_default": {
        "hidden": false
       }
      }
     }
    }
   },
   "outputs": [
    {
     "data": {
      "application/vnd.jupyter.widget-view+json": {
       "model_id": "21ee03d5c0f9469799fe7f7cc36aa41e",
       "version_major": 2,
       "version_minor": 0
      },
      "text/html": [
       "<p>Failed to display Jupyter Widget of type <code>Button</code>.</p>\n",
       "<p>\n",
       "  If you're reading this message in Jupyter Notebook or JupyterLab, it may mean\n",
       "  that the widgets JavaScript is still loading. If this message persists, it\n",
       "  likely means that the widgets JavaScript library is either not installed or\n",
       "  not enabled. See the <a href=\"https://ipywidgets.readthedocs.io/en/stable/user_install.html\">Jupyter\n",
       "  Widgets Documentation</a> for setup instructions.\n",
       "</p>\n",
       "<p>\n",
       "  If you're reading this message in another notebook frontend (for example, a static\n",
       "  rendering on GitHub or <a href=\"https://nbviewer.jupyter.org/\">NBViewer</a>),\n",
       "  it may mean that your frontend doesn't currently support widgets.\n",
       "</p>\n"
      ],
      "text/plain": [
       "Button(description=u'Clear All Points', style=ButtonStyle())"
      ]
     },
     "metadata": {},
     "output_type": "display_data"
    },
    {
     "data": {
      "application/vnd.jupyter.widget-view+json": {
       "model_id": "25b15f22466d468e9ec25959e3315340",
       "version_major": 2,
       "version_minor": 0
      },
      "text/html": [
       "<p>Failed to display Jupyter Widget of type <code>Button</code>.</p>\n",
       "<p>\n",
       "  If you're reading this message in Jupyter Notebook or JupyterLab, it may mean\n",
       "  that the widgets JavaScript is still loading. If this message persists, it\n",
       "  likely means that the widgets JavaScript library is either not installed or\n",
       "  not enabled. See the <a href=\"https://ipywidgets.readthedocs.io/en/stable/user_install.html\">Jupyter\n",
       "  Widgets Documentation</a> for setup instructions.\n",
       "</p>\n",
       "<p>\n",
       "  If you're reading this message in another notebook frontend (for example, a static\n",
       "  rendering on GitHub or <a href=\"https://nbviewer.jupyter.org/\">NBViewer</a>),\n",
       "  it may mean that your frontend doesn't currently support widgets.\n",
       "</p>\n"
      ],
      "text/plain": [
       "Button(description=u'Run Prediction', style=ButtonStyle())"
      ]
     },
     "metadata": {},
     "output_type": "display_data"
    },
    {
     "data": {
      "application/vnd.jupyter.widget-view+json": {
       "model_id": "0d3c924fd1264496bd6fee8d80ba793b",
       "version_major": 2,
       "version_minor": 0
      },
      "text/html": [
       "<p>Failed to display Jupyter Widget of type <code>Button</code>.</p>\n",
       "<p>\n",
       "  If you're reading this message in Jupyter Notebook or JupyterLab, it may mean\n",
       "  that the widgets JavaScript is still loading. If this message persists, it\n",
       "  likely means that the widgets JavaScript library is either not installed or\n",
       "  not enabled. See the <a href=\"https://ipywidgets.readthedocs.io/en/stable/user_install.html\">Jupyter\n",
       "  Widgets Documentation</a> for setup instructions.\n",
       "</p>\n",
       "<p>\n",
       "  If you're reading this message in another notebook frontend (for example, a static\n",
       "  rendering on GitHub or <a href=\"https://nbviewer.jupyter.org/\">NBViewer</a>),\n",
       "  it may mean that your frontend doesn't currently support widgets.\n",
       "</p>\n"
      ],
      "text/plain": [
       "Button(description=u'Go to New York City', style=ButtonStyle())"
      ]
     },
     "metadata": {},
     "output_type": "display_data"
    },
    {
     "data": {
      "application/vnd.jupyter.widget-view+json": {
       "model_id": "184f79861915492ca26d644d704edf6b",
       "version_major": 2,
       "version_minor": 0
      },
      "text/html": [
       "<p>Failed to display Jupyter Widget of type <code>IntSlider</code>.</p>\n",
       "<p>\n",
       "  If you're reading this message in Jupyter Notebook or JupyterLab, it may mean\n",
       "  that the widgets JavaScript is still loading. If this message persists, it\n",
       "  likely means that the widgets JavaScript library is either not installed or\n",
       "  not enabled. See the <a href=\"https://ipywidgets.readthedocs.io/en/stable/user_install.html\">Jupyter\n",
       "  Widgets Documentation</a> for setup instructions.\n",
       "</p>\n",
       "<p>\n",
       "  If you're reading this message in another notebook frontend (for example, a static\n",
       "  rendering on GitHub or <a href=\"https://nbviewer.jupyter.org/\">NBViewer</a>),\n",
       "  it may mean that your frontend doesn't currently support widgets.\n",
       "</p>\n"
      ],
      "text/plain": [
       "IntSlider(value=16, continuous_update=False, description=u'Zoom level:', max=18, min=14)"
      ]
     },
     "metadata": {},
     "output_type": "display_data"
    },
    {
     "name": "stdout",
     "output_type": "stream",
     "text": [
      "Using Zoom = 16\n",
      "Using lat, lon = 40.7508637076, -73.9694835614\n",
      "Running predictions...\n"
     ]
    },
    {
     "data": {
      "text/markdown": [
       "name | input | output | target\n",
       "--- | --- | --- | ---\n",
       "20180108_162520_0 | ![Picture](results/images/20180108_162520_0-inputs.png) | ![Picture](results/images/20180108_162520_0-outputs.png) | ![Picture](results/images/20180108_162520_0-targets.png) | \n"
      ],
      "text/plain": [
       "<IPython.core.display.Markdown object>"
      ]
     },
     "metadata": {},
     "output_type": "display_data"
    }
   ],
   "source": [
    "# WARNING: Run cell below first\n",
    "display(button_clear_points)\n",
    "display(button_run_prediction)\n",
    "display(button_go_to_NYC)\n",
    "display(zoom_level)"
   ]
  },
  {
   "cell_type": "code",
   "execution_count": 1,
   "metadata": {
    "extensions": {
     "jupyter_dashboards": {
      "version": 1,
      "views": {
       "grid_default": {
        "hidden": true
       },
       "report_default": {
        "hidden": true
       }
      }
     }
    }
   },
   "outputs": [],
   "source": [
    "# CODE:\n",
    "# https://github.com/affinelayer/pix2pix-tensorflow\n",
    "# https://github.com/OpenGeoscience/geonotebook/blob/eaeadd4070563ce4788fc167951945c1ab5bb079/notebooks/02_Raster_Data.ipynb\n",
    "\n",
    "# FOR SATALITE BASEMAP:\n",
    "# docker exec -it bfc1418aa28b bash\n",
    "# apt-get install nano\n",
    "# nano /usr/local/etc/geonotebook.ini\n",
    "# add (many basemaps available at http://leaflet-extras.github.io/leaflet-providers/preview/):\n",
    "#  url = https://server.arcgisonline.com/ArcGIS/rest/services/World_Imagery/MapServer/tile/{z}/{y}/{x}\n",
    "#  attribution =Tiles &copy; Esri &mdash; Source: Esri, i-cubed, USDA, USGS, AEX, GeoEye, Getmapping, Aerogrid, IGN, IGP, UPR-EGP, and the GIS User Community\n",
    "# Restart Kernel\n",
    "#\n",
    "# NOTES:\n",
    "#!git clone https://github.com/affinelayer/pix2pix-tensorflow.git\n",
    "#!mv pix2pix-tensorflow/* .\n",
    "#cp -r pretrained_models/ ~/git/geonotebook/notebooks/\n",
    "#\n",
    "#!apt-get update\n",
    "#!apt-get install -y python3-pip\n",
    "\n",
    "import os\n",
    "import Image\n",
    "import urllib\n",
    "import shutil\n",
    "from time import gmtime, strftime\n",
    "from IPython.display import display\n",
    "from io import BytesIO\n",
    "\n",
    "from bs4 import BeautifulSoup\n",
    "from geonotebook.wrappers import RasterData, RasterDataCollection\n",
    "from motionless import CenterMap\n",
    "from matplotlib import pylab as plt\n",
    "%matplotlib inline\n",
    "\n",
    "\n",
    "google_maps_api_key = \"YOUR API KEY\"\n",
    "\n",
    "\n",
    "def clean_dir(dir):\n",
    "    shutil.rmtree(dir, ignore_errors=True, onerror=None)\n",
    "    \n",
    "    try: \n",
    "        os.makedirs(dir)\n",
    "    except OSError:\n",
    "        if not os.path.isdir(dir):\n",
    "            raise\n",
    "\n",
    "            \n",
    "def download_google_maps_from_geonb_points():\n",
    "    if len(M.layers.annotation.points) == 0:\n",
    "        raise ValueError, \"Please add at least one point on the map.\"\n",
    "    else:\n",
    "        clean_dir(\"roadmap\")\n",
    "        clean_dir(\"satellite\")\n",
    "        \n",
    "        print \"Using Zoom = {}\".format(zoom_level.value)\n",
    "        for idx, point in enumerate(M.layers.annotation.points):\n",
    "            lon, lat = point.x, point.y\n",
    "            now = strftime(\"%Y%m%d_%H%M%S\", gmtime()) + \"_{}\".format(idx)\n",
    "            \n",
    "            print \"Using lat, lon = {0}, {1}\".format(lat, lon)\n",
    "            download_one_google_map(now, lat, lon, maptype=\"roadmap\", zoom_level=zoom_level.value)\n",
    "            download_one_google_map(now, lat, lon, maptype=\"satellite\", zoom_level=zoom_level.value)\n",
    "    \n",
    "    \n",
    "\n",
    "def download_one_google_map(now, lat, lon, maptype, zoom_level=16):\n",
    "    cmap = CenterMap(lat=round(lat, 5),\n",
    "                     lon=round(lon, 5),\n",
    "                     maptype=maptype,\n",
    "                     zoom = 16,\n",
    "                     size_x=256,\n",
    "                     size_y=256)\n",
    "    url = cmap.generate_url()\n",
    "    url = url + \"&key=\" + google_maps_api_key\n",
    "    \n",
    "    #print url\n",
    "    if maptype == \"satellite\":\n",
    "        out_path = \"satellite/{}.png\".format(now)\n",
    "    elif maptype == \"roadmap\":\n",
    "        out_path = \"roadmap/{}.png\".format(now)\n",
    "    \n",
    "    buffer = BytesIO(urllib.urlopen(url).read())\n",
    "    image = Image.open(buffer)\n",
    "    image.save(out_path)\n",
    "    \n",
    "    #print \"Downloaded {}\".format(out_path)\n",
    "    \n",
    "\n",
    "# See: https://github.com/WangYihang/HTML2Markdown/blob/master/HTML2Python.py\n",
    "\n",
    "def handle_ths(ths):\n",
    "    row_string = \"\"\n",
    "    \n",
    "    row_string += ' | '.join(str(e).replace(\"<th>\", \"\").replace(\"</th>\",\"\") for e in ths)\n",
    "    row_string += \"\\n\"\n",
    "    \n",
    "    row_string += ' | '.join([\"---\" for _ in range(len(ths))])\n",
    "    row_string += \"\\n\"\n",
    "    return row_string\n",
    "\n",
    "\n",
    "def handle_img(img):\n",
    "    describe = \"\"\n",
    "    if img.has_attr('alt'):\n",
    "        describe = img['alt']\n",
    "    else:\n",
    "        describe = \"Picture\"\n",
    "    return \"![\" + describe + \"](\" + img['src'].replace(\"images\", \"results/images\") + \")\"\n",
    "\n",
    "\n",
    "def handle_tds(tds):\n",
    "    row_string = \"\"\n",
    "        \n",
    "    for td in tds:\n",
    "        if \"img\" in str(td):\n",
    "            row_string += handle_img(td.find_all(\"img\")[0]) + \" | \"\n",
    "        else:\n",
    "            row_string += str(td).replace(\"<td>\",\"\").replace(\"</td>\",\"\") + \" | \"\n",
    "\n",
    "    row_string += \"\\n\"\n",
    "    return row_string\n",
    "\n",
    "\n",
    "def html2md(html):\n",
    "    soup = BeautifulSoup(html, \"html.parser\")\n",
    "    table_rows = soup.find_all(\"tr\")\n",
    "\n",
    "    md = \"\"\n",
    "    \n",
    "    header_row = True\n",
    "    for table_row in table_rows:\n",
    "        if header_row:\n",
    "            header_row = False\n",
    "            md += handle_ths(table_row.find_all(\"th\"))\n",
    "        else:\n",
    "            md += handle_tds(table_row.find_all(\"td\"))\n",
    "            \n",
    "    return md\n",
    "\n",
    "\n",
    "def display_results():\n",
    "    with open(\"results/index.html\", \"r\") as results_index:\n",
    "        result_html = results_index.read()\n",
    "\n",
    "    result_md = html2md(result_html)\n",
    "\n",
    "    from IPython.display import display, Markdown, Latex\n",
    "    display(Markdown(result_md))\n",
    "    \n",
    "    \n",
    "def clear_points():\n",
    "    # Clear any annotations\n",
    "    M.layers.annotation.clear_annotations()\n",
    "    \n",
    "    \n",
    "def run_prediction():\n",
    "    # Download google map+sat\n",
    "    download_google_maps_from_geonb_points()\n",
    "\n",
    "    # Create combine image\n",
    "    clean_dir(\"combined\")\n",
    "    ! python3 tools/process.py --input_dir satellite --b_dir roadmap --operation combine --output_dir combined 2>&1 >/dev/null | grep -v \"feature_guard.cc:137\"\n",
    "\n",
    "    # Run Pix2pix\n",
    "    print \"Running predictions...\"\n",
    "    clean_dir(\"results\")\n",
    "    ! python3 pix2pix.py --mode test --output_dir results --input_dir combined --checkpoint pretrained_models 2>&1 >/dev/null  | grep -v \"feature_guard.cc:137\"\n",
    "\n",
    "    display_results()\n",
    "    \n",
    "    \n",
    "import ipywidgets as widgets\n",
    "from IPython.display import clear_output\n",
    "\n",
    "button_clear_points = widgets.Button(description=\"Clear All Points\")\n",
    "button_run_prediction = widgets.Button(description=\"Run Prediction\")\n",
    "button_go_to_NYC = widgets.Button(description=\"Go to New York City\")\n",
    "zoom_level = widgets.IntSlider(\n",
    "    value=16,\n",
    "    min=14,\n",
    "    max=18,\n",
    "    step=1,\n",
    "    description='Zoom level:',\n",
    "    disabled=False,\n",
    "    continuous_update=False,\n",
    "    orientation='horizontal',\n",
    "    readout=True,\n",
    "    readout_format='d'\n",
    ")\n",
    "\n",
    "\n",
    "def reset_buttons():\n",
    "    clear_output()\n",
    "    display(button_clear_points)\n",
    "    display(button_run_prediction)\n",
    "    display(button_go_to_NYC)\n",
    "    display(zoom_level)\n",
    "\n",
    "def on_button_clear_points_clicked(b):\n",
    "    reset_buttons()\n",
    "    clear_points()\n",
    "    \n",
    "def on_button_run_prediction_clicked(b):\n",
    "    reset_buttons()\n",
    "    run_prediction()\n",
    "\n",
    "def on_button_go_to_NYC_clicked(b):\n",
    "    # Zoom to New YorK City (Manhattan) - NYC is where the training data is\n",
    "    M.set_center(-73.9712, 40.7500, 18)\n",
    "\n",
    "on_button_go_to_NYC_clicked(\"b\")\n",
    "button_clear_points.on_click(on_button_clear_points_clicked)\n",
    "button_run_prediction.on_click(on_button_run_prediction_clicked)\n",
    "button_go_to_NYC.on_click(on_button_go_to_NYC_clicked)"
   ]
  }
 ],
 "metadata": {
  "extensions": {
   "jupyter_dashboards": {
    "activeView": "report_default",
    "version": 1,
    "views": {
     "grid_default": {
      "cellMargin": 10,
      "defaultCellHeight": 20,
      "maxColumns": 12,
      "name": "grid",
      "type": "grid"
     },
     "report_default": {
      "name": "report",
      "type": "report"
     }
    }
   }
  },
  "kernelspec": {
   "display_name": "Geonotebook (Python 2)",
   "language": "python",
   "name": "geonotebook2"
  },
  "language_info": {
   "codemirror_mode": {
    "name": "ipython",
    "version": 2
   },
   "file_extension": ".py",
   "mimetype": "text/x-python",
   "name": "python",
   "nbconvert_exporter": "python",
   "pygments_lexer": "ipython2",
   "version": "2.7.12"
  }
 },
 "nbformat": 4,
 "nbformat_minor": 2
}
